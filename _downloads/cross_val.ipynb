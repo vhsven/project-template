{
  "nbformat_minor": 0, 
  "nbformat": 4, 
  "cells": [
    {
      "execution_count": null, 
      "cell_type": "code", 
      "source": [
        "%matplotlib inline"
      ], 
      "outputs": [], 
      "metadata": {
        "collapsed": false
      }
    }, 
    {
      "source": [
        "\n# Perform cross validation on a pruneable tree\n\n\nCalculate the cross validation score of a\n:class:`pruneabletree.prune.PruneableDecisionTreeClassifier`\nusing the Reduced Error Pruning strategy trained on pairs\nof features of the iris dataset.\n\n"
      ], 
      "cell_type": "markdown", 
      "metadata": {}
    }, 
    {
      "execution_count": null, 
      "cell_type": "code", 
      "source": [
        "print(__doc__)\n\nfrom sklearn.datasets import load_iris\nfrom sklearn.model_selection import cross_val_score\nfrom pruneabletree import PruneableDecisionTreeClassifier\nclf = PruneableDecisionTreeClassifier(random_state=0, prune='rep')\niris = load_iris()\nprint(cross_val_score(clf, iris.data, iris.target, cv=10))"
      ], 
      "outputs": [], 
      "metadata": {
        "collapsed": false
      }
    }
  ], 
  "metadata": {
    "kernelspec": {
      "display_name": "Python 2", 
      "name": "python2", 
      "language": "python"
    }, 
    "language_info": {
      "mimetype": "text/x-python", 
      "nbconvert_exporter": "python", 
      "name": "python", 
      "file_extension": ".py", 
      "version": "2.7.11", 
      "pygments_lexer": "ipython2", 
      "codemirror_mode": {
        "version": 2, 
        "name": "ipython"
      }
    }
  }
}
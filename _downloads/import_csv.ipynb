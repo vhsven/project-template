{
  "nbformat_minor": 0, 
  "nbformat": 4, 
  "cells": [
    {
      "execution_count": null, 
      "cell_type": "code", 
      "source": [
        "%matplotlib inline"
      ], 
      "outputs": [], 
      "metadata": {
        "collapsed": false
      }
    }, 
    {
      "source": [
        "\n# Read and pre-process a CSV file for usage in a decision tree\n\n\nThe example uses the :class:`pruneabletree.csv_importer.CsvImporter` to read \na CSV file containing a data set with missing values and categorical attributes.\nObservations with missing values will be discarded and categorical attributes \nwill be encoded. This makes the data ready to be used by a decision tree \nclassifier.\n\n"
      ], 
      "cell_type": "markdown", 
      "metadata": {}
    }, 
    {
      "execution_count": null, 
      "cell_type": "code", 
      "source": [
        "print(__doc__)\n\n\nfrom sklearn.model_selection import cross_val_score\nfrom pruneabletree import CsvImporter, PruneableDecisionTreeClassifier\n\nimporter = CsvImporter()\nclf = PruneableDecisionTreeClassifier(prune='ebp', ebp_confidence=0.001, random_state=0)\n\nfilepath = \"pruneabletree/tests/datasets/dataset_56_vote.csv\"\nX, y = importer.fit_transform_both(filepath)\n# Or:\n# X = importer.fit_transform(filepath)\n# y = importer.y\nprint(cross_val_score(clf, X, y, cv=10))"
      ], 
      "outputs": [], 
      "metadata": {
        "collapsed": false
      }
    }
  ], 
  "metadata": {
    "kernelspec": {
      "display_name": "Python 2", 
      "name": "python2", 
      "language": "python"
    }, 
    "language_info": {
      "mimetype": "text/x-python", 
      "nbconvert_exporter": "python", 
      "name": "python", 
      "file_extension": ".py", 
      "version": "2.7.11", 
      "pygments_lexer": "ipython2", 
      "codemirror_mode": {
        "version": 2, 
        "name": "ipython"
      }
    }
  }
}
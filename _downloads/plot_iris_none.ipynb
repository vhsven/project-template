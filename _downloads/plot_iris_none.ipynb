{
  "nbformat_minor": 0, 
  "nbformat": 4, 
  "cells": [
    {
      "execution_count": null, 
      "cell_type": "code", 
      "source": [
        "%matplotlib inline"
      ], 
      "outputs": [], 
      "metadata": {
        "collapsed": false
      }
    }, 
    {
      "source": [
        "\n# Plot the decision surface of a pruneable tree with pruning disabled\n\n\nPlot the decision surface of a :class:`pruneabletree.prune.PruneableDecisionTreeClassifier` trained on pairs\nof features of the iris dataset.\n\nFor each pair of iris features, the decision tree learns decision\nboundaries made of combinations of simple thresholding rules inferred from\nthe training samples.\n\nIn this example, the tree is not pruned so it behaves the same as\na regular `DecisionTreeClassifier`.\n\n"
      ], 
      "cell_type": "markdown", 
      "metadata": {}
    }, 
    {
      "execution_count": null, 
      "cell_type": "code", 
      "source": [
        "print(__doc__)\n\nimport matplotlib.pyplot as plt\nimport numpy as np\nfrom sklearn.datasets import load_iris\n\nfrom pruneabletree import PruneableDecisionTreeClassifier\n\n# Parameters\nn_classes = 3\nplot_colors = \"ryb\"\nplot_step = 0.02\n\ndef plot_surface(iris, prune_method):\n    for pairidx, pair in enumerate([[0, 1], [0, 2], [0, 3],\n                                    [1, 2], [1, 3], [2, 3]]):\n        # We only take the two corresponding features\n        X = iris.data[:, pair]\n        y = iris.target\n\n        # Train\n        clf = PruneableDecisionTreeClassifier(prune=prune_method).fit(X, y)\n\n        # Plot the decision boundary\n        plt.subplot(2, 3, pairidx + 1)\n\n        x_min, x_max = X[:, 0].min() - 1, X[:, 0].max() + 1\n        y_min, y_max = X[:, 1].min() - 1, X[:, 1].max() + 1\n        xx, yy = np.meshgrid(np.arange(x_min, x_max, plot_step),\n                            np.arange(y_min, y_max, plot_step))\n        plt.tight_layout(h_pad=0.5, w_pad=0.5, pad=2.5)\n\n        Z = clf.predict(np.c_[xx.ravel(), yy.ravel()])\n        Z = Z.reshape(xx.shape)\n        plt.contourf(xx, yy, Z, cmap=plt.cm.RdYlBu)\n\n        plt.xlabel(iris.feature_names[pair[0]])\n        plt.ylabel(iris.feature_names[pair[1]])\n\n        # Plot the training points\n        for i, color in zip(range(n_classes), plot_colors):\n            idx = np.where(y == i)\n            plt.scatter(X[idx, 0], X[idx, 1], c=color, label=iris.target_names[i],\n                        cmap=plt.cm.RdYlBu, edgecolor='black', s=15)\n\n    plt.suptitle(\"Decision surface of a decision tree using paired features\")\n    plt.legend(loc='lower right', borderpad=0, handletextpad=0)\n    plt.axis(\"tight\")\n    plt.show()\n\n# Load data\niris = load_iris()\n\n# Create plots\nplot_surface(iris, prune_method=None)"
      ], 
      "outputs": [], 
      "metadata": {
        "collapsed": false
      }
    }
  ], 
  "metadata": {
    "kernelspec": {
      "display_name": "Python 2", 
      "name": "python2", 
      "language": "python"
    }, 
    "language_info": {
      "mimetype": "text/x-python", 
      "nbconvert_exporter": "python", 
      "name": "python", 
      "file_extension": ".py", 
      "version": "2.7.11", 
      "pygments_lexer": "ipython2", 
      "codemirror_mode": {
        "version": 2, 
        "name": "ipython"
      }
    }
  }
}
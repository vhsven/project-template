{
  "nbformat_minor": 0, 
  "nbformat": 4, 
  "cells": [
    {
      "execution_count": null, 
      "cell_type": "code", 
      "source": [
        "%matplotlib inline"
      ], 
      "outputs": [], 
      "metadata": {
        "collapsed": false
      }
    }, 
    {
      "source": [
        "\n# Fit a prunable tree on the iris dataset\n\n\nFit a prunable tree on the iris dataset and compare the results of various pruning strategies.\n\n"
      ], 
      "cell_type": "markdown", 
      "metadata": {}
    }, 
    {
      "execution_count": null, 
      "cell_type": "code", 
      "source": [
        "print(__doc__)\n\nfrom sklearn.datasets import load_iris\nfrom sklearn.model_selection import train_test_split\nfrom sklearn.metrics import accuracy_score\nfrom pruneabletree import PruneableDecisionTreeClassifier\n\nX, y = load_iris(return_X_y=True)\nX_train, X_test, y_train, y_test = train_test_split(X, y, test_size=0.2)\n\nclf_none = PruneableDecisionTreeClassifier(prune=None).fit(X_train, y_train)\nclf_rep = PruneableDecisionTreeClassifier(prune='rep', rep_val_percentage=.1).fit(X_train, y_train)\nclf_ebp = PruneableDecisionTreeClassifier(prune='ebp', ebp_confidence=1e-4).fit(X_train, y_train)\n\nprint(\"Number of nodes remaining with pruning strategies 'none', 'rep' and 'ebp':\")\nprint(clf_none.n_actual_nodes)\nprint(clf_rep.n_actual_nodes)\nprint(clf_ebp.n_actual_nodes)\n\nprint(\"Real vs predicted classes of the three classifiers:\")\ny_none = clf_none.predict(X_test)\ny_rep = clf_rep.predict(X_test)\ny_ebp = clf_ebp.predict(X_test)\nprint(y_test)\nprint(y_none)\nprint(y_rep)\nprint(y_ebp)\n\nprint(\"Accuracy scores of the three classifiers:\")\nprint(accuracy_score(y_test, y_none))\nprint(accuracy_score(y_test, y_rep))\nprint(accuracy_score(y_test, y_ebp))"
      ], 
      "outputs": [], 
      "metadata": {
        "collapsed": false
      }
    }
  ], 
  "metadata": {
    "kernelspec": {
      "display_name": "Python 2", 
      "name": "python2", 
      "language": "python"
    }, 
    "language_info": {
      "mimetype": "text/x-python", 
      "nbconvert_exporter": "python", 
      "name": "python", 
      "file_extension": ".py", 
      "version": "2.7.11", 
      "pygments_lexer": "ipython2", 
      "codemirror_mode": {
        "version": 2, 
        "name": "ipython"
      }
    }
  }
}